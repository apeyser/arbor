{
 "cells": [
  {
   "cell_type": "markdown",
   "metadata": {},
   "source": [
    "# Ring network with MPI using Arbor's python interface"
   ]
  },
  {
   "cell_type": "markdown",
   "metadata": {},
   "source": [
    "This example shows the usage of mpi in arbor's python backend by using helpers provided by our Python wrapper in a ring network. \n",
    "    \n",
    "To do so, we first have to load our arbor python module 'pyarb' and submodules thereof:"
   ]
  },
  {
   "cell_type": "code",
   "execution_count": 1,
   "metadata": {},
   "outputs": [],
   "source": [
    "import sys\n",
    "import pyarb as arb\n",
    "from pyarb import connection\n",
    "from pyarb import cell_member as cmem"
   ]
  },
  {
   "cell_type": "markdown",
   "metadata": {},
   "source": [
    "## Create a recipe for ring network\n",
    "\n",
    "Now, a recipe, that describes the cells and network of a model, can be defined in python by implementing the recipe interface: \n",
    "\n",
    "    1) constructor setting the number of cells\n",
    "    2) function returning the total number of cells in the model\n",
    "    3) function returning a cell description (mechanism) of soma as well as segment, synapse and stimulus locations \n",
    "    4) function returning the number of targets (here: 1 connection to next cell) \n",
    "    5) function returning the number of sources (here: 1 connenction from previous cell)\n",
    "    6) function returning the type of cell with global id gid \n",
    "    7) function creating the ring network (incoming connections to each cell)"
   ]
  },
  {
   "cell_type": "code",
   "execution_count": 2,
   "metadata": {},
   "outputs": [
    {
     "ename": "SyntaxError",
     "evalue": "invalid syntax (<ipython-input-2-c5a12166c055>, line 18)",
     "output_type": "error",
     "traceback": [
      "\u001b[0;36m  File \u001b[0;32m\"<ipython-input-2-c5a12166c055>\"\u001b[0;36m, line \u001b[0;32m18\u001b[0m\n\u001b[0;31m    cell = #TODO#\u001b[0m\n\u001b[0m                 ^\u001b[0m\n\u001b[0;31mSyntaxError\u001b[0m\u001b[0;31m:\u001b[0m invalid syntax\n"
     ]
    }
   ],
   "source": [
    "class ring_recipe(arb.recipe):\n",
    "\n",
    "    def __init__(self, n=4):\n",
    "        # The base C++ class constructor must be called first, to ensure that\n",
    "        # all memory in the C++ class is initialized correctly.\n",
    "        arb.recipe.__init__(self)\n",
    "        self.ncells = n\n",
    "\n",
    "    # The num_cells method that returns the total number of cells in the model\n",
    "    # must be implemented.\n",
    "    def num_cells(self):\n",
    "        return self.ncells\n",
    "\n",
    "    # The cell_description method returns a cell\n",
    "    def cell_description(self, gid):\n",
    "        # ================================ TASK 1 ================================ #\n",
    "        # a) Make a soma cell\n",
    "        cell = #TODO#\n",
    "        \n",
    "        # b) Add synapse at segment 0 at location 0.5\n",
    "        loc = #TODO#\n",
    "        #TODO#\n",
    "        \n",
    "        # c) Add detector with threshold 20 mV\n",
    "        #TODO#\n",
    "        \n",
    "        # d) Add stimulus to first cell with gid 0 at t0 = 0 ms for duration of 20 ms with weight 0.01 nA\n",
    "        #TODO#\n",
    "        return cell\n",
    "\n",
    "    def num_targets(self, gid):\n",
    "        return 1\n",
    "\n",
    "    def num_sources(self, gid):\n",
    "        return 1\n",
    "\n",
    "    # The kind method returns the type of cell with gid.\n",
    "    # Note: this must agree with the type returned by cell_description.\n",
    "    def kind(self, gid):\n",
    "        return arb.cell_kind.cable1d\n",
    "\n",
    "    # Make a ring network\n",
    "    def connections_on(self, gid):\n",
    "        # ================================ TASK 1 ================================ #\n",
    "        # e) Define the source of cell with gid as the previous cell with gid-1\n",
    "        #    caution: close the ring at gid 0\n",
    "        src = #TODO#\n",
    "        return [connection(cmem(src,0), cmem(gid,0), 0.1, 10)]"
   ]
  },
  {
   "cell_type": "code",
   "execution_count": null,
   "metadata": {},
   "outputs": [],
   "source": []
  }
 ],
 "metadata": {
  "kernelspec": {
   "display_name": "Python 3",
   "language": "python",
   "name": "python3"
  },
  "language_info": {
   "codemirror_mode": {
    "name": "ipython",
    "version": 3
   },
   "file_extension": ".py",
   "mimetype": "text/x-python",
   "name": "python",
   "nbconvert_exporter": "python",
   "pygments_lexer": "ipython3",
   "version": "3.6.5"
  }
 },
 "nbformat": 4,
 "nbformat_minor": 2
}
