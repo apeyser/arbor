{
 "cells": [
  {
   "cell_type": "markdown",
   "metadata": {},
   "source": [
    "# Ring network with MPI using Arbor's python interface"
   ]
  },
  {
   "cell_type": "markdown",
   "metadata": {},
   "source": [
    "This example shows the usage of mpi in arbor's python backend by using helpers provided by our Python wrapper in a ring network. \n",
    "    \n",
    "To do so, we first have to load our arbor python module 'pyarb' and submodules thereof:"
   ]
  },
  {
   "cell_type": "code",
   "execution_count": 1,
   "metadata": {},
   "outputs": [],
   "source": [
    "import sys\n",
    "import pyarb as arb\n",
    "from pyarb import connection\n",
    "from pyarb import cell_member as cmem"
   ]
  },
  {
   "cell_type": "markdown",
   "metadata": {},
   "source": [
    "## Create a recipe for ring network\n",
    "\n",
    "Now, a recipe, that describes the cells and network of a model, can be defined in python by implementing the recipe interface: \n",
    "\n",
    "    1) constructor setting the number of cells\n",
    "    2) function returning the total number of cells in the model\n",
    "    3) function returning a cell description (mechanism) of soma as well as segment, synapse and stimulus locations \n",
    "    4) function returning the number of targets (here: 1 connection to next cell) \n",
    "    5) function returning the number of sources (here: 1 connenction from previous cell)\n",
    "    6) function returning the type of cell with global id gid \n",
    "    7) function creating the ring network (incoming connections to each cell)"
   ]
  },
  {
   "cell_type": "code",
   "execution_count": 2,
   "metadata": {},
   "outputs": [],
   "source": [
    "class ring_recipe(arb.recipe):\n",
    "\n",
    "    def __init__(self, n=4):\n",
    "        # The base C++ class constructor must be called first, to ensure that\n",
    "        # all memory in the C++ class is initialized correctly.\n",
    "        arb.recipe.__init__(self)\n",
    "        self.ncells = n\n",
    "\n",
    "    # The num_cells method that returns the total number of cells in the model\n",
    "    # must be implemented.\n",
    "    def num_cells(self):\n",
    "        return self.ncells\n",
    "\n",
    "    # The cell_description method returns a cell\n",
    "    def cell_description(self, gid):\n",
    "\n",
    "        cell = arb.make_soma_cell()\n",
    "        loc = arb.segment_location(0, 0.5)\n",
    "        cell.add_synapse(loc)\n",
    "        cell.add_detector(loc, 20)\n",
    "        \n",
    "        if gid==0:\n",
    "            cell.add_stimulus(loc, 0, 20, 0.01)\n",
    "        return cell\n",
    "\n",
    "    def num_targets(self, gid):\n",
    "        return 1\n",
    "\n",
    "    def num_sources(self, gid):\n",
    "        return 1\n",
    "\n",
    "    # The kind method returns the type of cell with gid.\n",
    "    # Note: this must agree with the type returned by cell_description.\n",
    "    def kind(self, gid):\n",
    "        return arb.cell_kind.cable1d\n",
    "\n",
    "    # Make a ring network\n",
    "    def connections_on(self, gid):\n",
    "        src = self.num_cells()-1 if gid==0 else gid-1\n",
    "        return [connection(cmem(src,0), cmem(gid,0), 0.1, 10)]"
   ]
  },
  {
   "cell_type": "markdown",
   "metadata": {},
   "source": [
    "## Create parallel execution context\n",
    "\n",
    "First, initialize MPI with Arbor's mpi helpers:"
   ]
  },
  {
   "cell_type": "code",
   "execution_count": 3,
   "metadata": {},
   "outputs": [],
   "source": [
    "arb.mpi_init();"
   ]
  },
  {
   "cell_type": "markdown",
   "metadata": {},
   "source": [
    "Then, get MPI communicator:"
   ]
  },
  {
   "cell_type": "code",
   "execution_count": 4,
   "metadata": {},
   "outputs": [
    {
     "name": "stdout",
     "output_type": "stream",
     "text": [
      "<mpi_comm: MPI_COMM_WORLD>\n"
     ]
    }
   ],
   "source": [
    "comm = arb.mpi_comm()\n",
    "\n",
    "print(comm)"
   ]
  },
  {
   "cell_type": "markdown",
   "metadata": {},
   "source": [
    "Then, get the resources and create the parallel execution context"
   ]
  },
  {
   "cell_type": "code",
   "execution_count": 5,
   "metadata": {},
   "outputs": [
    {
     "ename": "SyntaxError",
     "evalue": "invalid syntax (<ipython-input-5-93f92bd963eb>, line 3)",
     "output_type": "error",
     "traceback": [
      "\u001b[0;36m  File \u001b[0;32m\"<ipython-input-5-93f92bd963eb>\"\u001b[0;36m, line \u001b[0;32m3\u001b[0m\n\u001b[0;31m    resources = #TODO#\u001b[0m\n\u001b[0m                      ^\u001b[0m\n\u001b[0;31mSyntaxError\u001b[0m\u001b[0;31m:\u001b[0m invalid syntax\n"
     ]
    }
   ],
   "source": [
    "# ================================ TASK 2 ================================ #\n",
    "# 2a) Get hardware resources\n",
    "resources = #TODO#\n",
    "\n",
    "# 2b) Create a context which takes the resources and an MPI communicator as input\n",
    "context = #TODO#\n",
    "\n",
    "print(context, '\\n')"
   ]
  },
  {
   "cell_type": "markdown",
   "metadata": {},
   "source": [
    "### Initiate ring network\n",
    "\n",
    "Next, we create the example ring network with 100 cells and set a checkpoint to measure its creation:"
   ]
  },
  {
   "cell_type": "code",
   "execution_count": 6,
   "metadata": {},
   "outputs": [
    {
     "ename": "SyntaxError",
     "evalue": "invalid syntax (<ipython-input-6-f4aedea9d71c>, line 2)",
     "output_type": "error",
     "traceback": [
      "\u001b[0;36m  File \u001b[0;32m\"<ipython-input-6-f4aedea9d71c>\"\u001b[0;36m, line \u001b[0;32m2\u001b[0m\n\u001b[0;31m    recipe = #TODO#\u001b[0m\n\u001b[0m                   ^\u001b[0m\n\u001b[0;31mSyntaxError\u001b[0m\u001b[0;31m:\u001b[0m invalid syntax\n"
     ]
    }
   ],
   "source": [
    "# 2c) Initiate the recipe with 100 cells\n",
    "recipe = #TODO#"
   ]
  },
  {
   "cell_type": "markdown",
   "metadata": {},
   "source": [
    "### Partition the simulation over the distributed system\n",
    "\n",
    "To part the work into segments, we decompose the recipe (and measure again):"
   ]
  },
  {
   "cell_type": "code",
   "execution_count": 7,
   "metadata": {},
   "outputs": [
    {
     "ename": "SyntaxError",
     "evalue": "invalid syntax (<ipython-input-7-2d36ed658246>, line 2)",
     "output_type": "error",
     "traceback": [
      "\u001b[0;36m  File \u001b[0;32m\"<ipython-input-7-2d36ed658246>\"\u001b[0;36m, line \u001b[0;32m2\u001b[0m\n\u001b[0;31m    decomp = #TODO#\u001b[0m\n\u001b[0m                   ^\u001b[0m\n\u001b[0;31mSyntaxError\u001b[0m\u001b[0;31m:\u001b[0m invalid syntax\n"
     ]
    }
   ],
   "source": [
    "# 2d) Partition the simulation over the distributed system which takes the recipe and the context as input\n",
    "decomp = #TODO#"
   ]
  },
  {
   "cell_type": "markdown",
   "metadata": {},
   "source": [
    "## Finalize MPI with Arbor's mpi helper"
   ]
  },
  {
   "cell_type": "code",
   "execution_count": 8,
   "metadata": {},
   "outputs": [],
   "source": [
    "arb.mpi_finalize();"
   ]
  },
  {
   "cell_type": "code",
   "execution_count": null,
   "metadata": {},
   "outputs": [],
   "source": []
  }
 ],
 "metadata": {
  "kernelspec": {
   "display_name": "Python 3",
   "language": "python",
   "name": "python3"
  },
  "language_info": {
   "codemirror_mode": {
    "name": "ipython",
    "version": 3
   },
   "file_extension": ".py",
   "mimetype": "text/x-python",
   "name": "python",
   "nbconvert_exporter": "python",
   "pygments_lexer": "ipython3",
   "version": "3.6.5"
  }
 },
 "nbformat": 4,
 "nbformat_minor": 2
}
