{
 "cells": [
  {
   "cell_type": "markdown",
   "metadata": {},
   "source": [
    "# Ring network with MPI using Arbor's python interface"
   ]
  },
  {
   "cell_type": "markdown",
   "metadata": {},
   "source": [
    "This example shows the usage of mpi in arbor's python backend by using helpers provided by our Python wrapper in a ring network. \n",
    "    \n",
    "To do so, we first have to load our arbor python module 'pyarb' and submodules thereof:"
   ]
  },
  {
   "cell_type": "code",
   "execution_count": 1,
   "metadata": {},
   "outputs": [],
   "source": [
    "%matplotlib notebook\n",
    "import sys\n",
    "import numpy as np\n",
    "import math\n",
    "import matplotlib.pyplot as plot\n",
    "\n",
    "import pyarb as arb\n",
    "from pyarb import connection\n",
    "from pyarb import cell_member as cmem"
   ]
  },
  {
   "cell_type": "markdown",
   "metadata": {},
   "source": [
    "## Create a recipe for ring network\n",
    "\n",
    "Now, a recipe, that describes the cells and network of a model, can be defined in python by implementing the recipe interface: \n",
    "\n",
    "    1) constructor setting the number of cells\n",
    "    2) function returning the total number of cells in the model\n",
    "    3) function returning a cell description (mechanism) of soma as well as segment, synapse and stimulus locations \n",
    "    4) function returning the number of targets (here: 1 connection to next cell) \n",
    "    5) function returning the number of sources (here: 1 connenction from previous cell)\n",
    "    6) function returning the type of cell with global id gid \n",
    "    7) function creating the ring network (incoming connections to each cell)"
   ]
  },
  {
   "cell_type": "code",
   "execution_count": 2,
   "metadata": {},
   "outputs": [],
   "source": [
    "class ring_recipe(arb.recipe):\n",
    "    \n",
    "    def __init__(self, n=4):\n",
    "        # The base C++ class constructor must be called first, to ensure that\n",
    "        # all memory in the C++ class is initialized correctly.\n",
    "        arb.recipe.__init__(self)\n",
    "        self.ncells = n\n",
    "    \n",
    "    # The num_cells method that returns the total number of cells in the model\n",
    "    # must be implemented.\n",
    "    def num_cells(self):\n",
    "        return self.ncells\n",
    "    \n",
    "    # The cell_description method returns a cell\n",
    "    def cell_description(self, gid):\n",
    "        \n",
    "        cell = arb.make_soma_cell()\n",
    "        loc = arb.segment_location(0, 0.5)\n",
    "        cell.add_synapse(loc)\n",
    "        cell.add_detector(loc, 20)\n",
    "        \n",
    "        if gid==0:\n",
    "            cell.add_stimulus(loc, 0, 20, 0.01)\n",
    "        return cell\n",
    "    \n",
    "    def num_targets(self, gid):\n",
    "        return 1\n",
    "    \n",
    "    def num_sources(self, gid):\n",
    "        return 1\n",
    "    \n",
    "    # The kind method returns the type of cell with gid.\n",
    "    # Note: this must agree with the type returned by cell_description.\n",
    "    def kind(self, gid):\n",
    "        return arb.cell_kind.cable1d\n",
    "    \n",
    "    # Make a ring network\n",
    "    def connections_on(self, gid):\n",
    "        src = self.num_cells()-1 if gid==0 else gid-1\n",
    "        return [connection(cmem(src,0), cmem(gid,0), 0.1, 10)]"
   ]
  },
  {
   "cell_type": "markdown",
   "metadata": {},
   "source": [
    "## Create parallel execution context\n",
    "\n",
    "First, initialize MPI with Arbor's mpi helpers:"
   ]
  },
  {
   "cell_type": "code",
   "execution_count": 3,
   "metadata": {},
   "outputs": [],
   "source": [
    "arb.mpi_init();"
   ]
  },
  {
   "cell_type": "markdown",
   "metadata": {},
   "source": [
    "Then, get MPI communicator:"
   ]
  },
  {
   "cell_type": "code",
   "execution_count": 4,
   "metadata": {},
   "outputs": [
    {
     "name": "stdout",
     "output_type": "stream",
     "text": [
      "<mpi_comm: MPI_COMM_WORLD>\n"
     ]
    }
   ],
   "source": [
    "comm = arb.mpi_comm()\n",
    "\n",
    "print(comm)"
   ]
  },
  {
   "cell_type": "markdown",
   "metadata": {},
   "source": [
    "Then, get the resources and create the parallel execution context"
   ]
  },
  {
   "cell_type": "code",
   "execution_count": 5,
   "metadata": {},
   "outputs": [
    {
     "name": "stdout",
     "output_type": "stream",
     "text": [
      "<context: threads 24, gpu yes, distributed MPI ranks 1> \n",
      "\n"
     ]
    }
   ],
   "source": [
    "resources = arb.proc_allocation()\n",
    "\n",
    "context = arb.context(resources, comm)\n",
    "\n",
    "print(context, '\\n')"
   ]
  },
  {
   "cell_type": "markdown",
   "metadata": {},
   "source": [
    "Here, we have 24 threads, a P100 GPU and one local rank.\n",
    "\n",
    "### Set up measurements for runtime and consumption\n",
    "In order to measure the runtime, the memory consumption on CPU and GPU, as well as the energy consumption, we can utilize arbor's meter manager and start the measurement: "
   ]
  },
  {
   "cell_type": "code",
   "execution_count": 6,
   "metadata": {},
   "outputs": [
    {
     "ename": "SyntaxError",
     "evalue": "invalid syntax (<ipython-input-6-a7246efe2bfb>, line 3)",
     "output_type": "error",
     "traceback": [
      "\u001b[0;36m  File \u001b[0;32m\"<ipython-input-6-a7246efe2bfb>\"\u001b[0;36m, line \u001b[0;32m3\u001b[0m\n\u001b[0;31m    meters = #TODO#\u001b[0m\n\u001b[0m                   ^\u001b[0m\n\u001b[0;31mSyntaxError\u001b[0m\u001b[0;31m:\u001b[0m invalid syntax\n"
     ]
    }
   ],
   "source": [
    "# OPTIONAL            # ================================ TASK 4 ================================ #\n",
    "# OPTIONAL            # 4a) Initiate meter manager and start the measurement\n",
    "meters = #TODO#\n",
    "#TODO#"
   ]
  },
  {
   "cell_type": "markdown",
   "metadata": {},
   "source": [
    "### Initiate ring network\n",
    "\n",
    "Next, we create the example ring network with 100 cells and set a checkpoint to measure its creation:"
   ]
  },
  {
   "cell_type": "code",
   "execution_count": 7,
   "metadata": {},
   "outputs": [],
   "source": [
    "n_cells = 100\n",
    "recipe = ring_recipe(n_cells)"
   ]
  },
  {
   "cell_type": "code",
   "execution_count": 8,
   "metadata": {},
   "outputs": [],
   "source": [
    "# OPTIONAL            # 4b) i) Set checkpoint 'recipe create'\n",
    "#TODO#"
   ]
  },
  {
   "cell_type": "markdown",
   "metadata": {},
   "source": [
    "### Partition the simulation over the distributed system\n",
    "\n",
    "To part the work into segments, we decompose the recipe (and measure again):"
   ]
  },
  {
   "cell_type": "code",
   "execution_count": 9,
   "metadata": {},
   "outputs": [],
   "source": [
    "decomp = arb.partition_load_balance(recipe, context)"
   ]
  },
  {
   "cell_type": "code",
   "execution_count": 10,
   "metadata": {},
   "outputs": [],
   "source": [
    "# OPTIONAL            # 4b) ii) Set checkpoint 'load balance'\n",
    "#TODO#"
   ]
  },
  {
   "cell_type": "markdown",
   "metadata": {},
   "source": [
    "## Build and run the simulation \n",
    "\n",
    "Next, we build the simulation, initialize a spike recorder (and measure the simulation initialization):"
   ]
  },
  {
   "cell_type": "code",
   "execution_count": 11,
   "metadata": {},
   "outputs": [],
   "source": [
    "sim = arb.simulation(recipe, decomp, context)"
   ]
  },
  {
   "cell_type": "code",
   "execution_count": 12,
   "metadata": {},
   "outputs": [],
   "source": [
    "# OPTIONAL            # 4b) iii) Set checkpoint 'simulation init'\n",
    "#TODO#\n",
    "\n",
    "# OPTIONAL            # 4c) Build the spike recorder\n",
    "#TODO"
   ]
  },
  {
   "cell_type": "markdown",
   "metadata": {},
   "source": [
    "### Run simulation \n",
    "\n",
    "Finally, we can run the simulation for 2000 ms and with time step size 0.025 ms (and measure the simulation run):"
   ]
  },
  {
   "cell_type": "code",
   "execution_count": 13,
   "metadata": {},
   "outputs": [],
   "source": [
    "tSim = 2000\n",
    "dt = 0.025\n",
    "sim.run(tSim, dt)"
   ]
  },
  {
   "cell_type": "code",
   "execution_count": 14,
   "metadata": {},
   "outputs": [],
   "source": [
    "# OPTIONAL            # 4b) iv) Set checkpoint 'simulation run'\n",
    "#TODO#"
   ]
  },
  {
   "cell_type": "markdown",
   "metadata": {},
   "source": [
    "## Analyze results of meter measurement and spike recordings\n",
    "\n",
    "After the simulation run is completed, we print the information collected with arbor's meter manager."
   ]
  },
  {
   "cell_type": "code",
   "execution_count": 15,
   "metadata": {},
   "outputs": [],
   "source": [
    "# OPTIONAL            # 4d) Make and print meter report\n",
    "#TODO#"
   ]
  },
  {
   "cell_type": "markdown",
   "metadata": {},
   "source": [
    "With the spike recorder we can now print the occuring spike times at correcponding cells:"
   ]
  },
  {
   "cell_type": "code",
   "execution_count": 16,
   "metadata": {},
   "outputs": [
    {
     "ename": "SyntaxError",
     "evalue": "invalid syntax (<ipython-input-16-6b34b62b1624>, line 4)",
     "output_type": "error",
     "traceback": [
      "\u001b[0;36m  File \u001b[0;32m\"<ipython-input-16-6b34b62b1624>\"\u001b[0;36m, line \u001b[0;32m4\u001b[0m\n\u001b[0;31m    spikes = #TODO#\u001b[0m\n\u001b[0m                   ^\u001b[0m\n\u001b[0;31mSyntaxError\u001b[0m\u001b[0;31m:\u001b[0m invalid syntax\n"
     ]
    }
   ],
   "source": [
    "print('SPIKES:')\n",
    "\n",
    "# OPTIONAL            # 4e) Get the recorder`s spikes\n",
    "spikes = #TODO#\n",
    "\n",
    "# print at most 10 spikes\n",
    "n_spikes_out = min(len(spikes), 10)\n",
    "for i in range(n_spikes_out):\n",
    "    spike = spikes[i]\n",
    "    print('  cell %2d at %8.3f ms'%(spike.source.gid, spike.time))\n",
    "\n",
    "\n",
    "\n",
    "if n_spikes_out<len(spikes):\n",
    "    print('  ...')\n",
    "    spike = spikes[-1]\n",
    "    print('  cell %2d at %8.3f ms'%(spike.source.gid, spike.time))"
   ]
  },
  {
   "cell_type": "markdown",
   "metadata": {},
   "source": [
    "# Visualization of spiking activity\n",
    "\n",
    "Use a raster plot to visualize spiking activity."
   ]
  },
  {
   "cell_type": "code",
   "execution_count": null,
   "metadata": {},
   "outputs": [],
   "source": [
    "n_spikes = len(spikes)\n",
    "tVec = np.arange(0,tSim,dt)\n",
    "SpikeMat_rows = n_cells # number of cells\n",
    "SpikeMat_cols = math.floor(tSim/dt)\n",
    "SpikeMat = np.zeros((SpikeMat_rows, SpikeMat_cols))\n",
    "\n",
    "# save spike trains in matrix: \n",
    "# (if spike in cell n at time step k, then SpikeMat[n,k]=1, else 0)\n",
    "for i in range(n_spikes):\n",
    "    spike = spikes[i]\n",
    "    tCur = math.floor(spike.time/dt)\n",
    "    SpikeMat[spike.source.gid][tCur] = 1\n",
    "\n",
    "for i in range(SpikeMat_rows):\n",
    "    for j in range(SpikeMat_cols):\n",
    "        if(SpikeMat[i,j] == 1):\n",
    "            x1 = [i,i+0.5]\n",
    "            x2 = [j,j]\n",
    "            plot.plot(x2,x1,color = 'black')\n",
    "\n",
    "plot.title('Spike raster plot')\n",
    "plot.xlabel('Spike time (ms)')\n",
    "tick = range(0,SpikeMat_cols+10000,10000)\n",
    "label = range(0,tSim+250,250)\n",
    "plot.xticks(tick, label)\n",
    "plot.ylabel('Neuron (gid)')\n",
    "plot.show()"
   ]
  },
  {
   "cell_type": "markdown",
   "metadata": {},
   "source": [
    "## Finalize MPI with Arbor's mpi helper"
   ]
  },
  {
   "cell_type": "code",
   "execution_count": 17,
   "metadata": {},
   "outputs": [],
   "source": [
    "arb.mpi_finalize();"
   ]
  },
  {
   "cell_type": "code",
   "execution_count": null,
   "metadata": {},
   "outputs": [],
   "source": []
  }
 ],
 "metadata": {
  "kernelspec": {
   "display_name": "Python 3",
   "language": "python",
   "name": "python3"
  },
  "language_info": {
   "codemirror_mode": {
    "name": "ipython",
    "version": 3
   },
   "file_extension": ".py",
   "mimetype": "text/x-python",
   "name": "python",
   "nbconvert_exporter": "python",
   "pygments_lexer": "ipython3",
   "version": "3.6.5"
  }
 },
 "nbformat": 4,
 "nbformat_minor": 2
}
