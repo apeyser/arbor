{
 "cells": [
  {
   "cell_type": "markdown",
   "metadata": {},
   "source": [
    "# Ring network with MPI using Arbor's python interface"
   ]
  },
  {
   "cell_type": "markdown",
   "metadata": {},
   "source": [
    "This example shows the usage of mpi in arbor's python backend by using helpers provided by our Python wrapper in a ring network. \n",
    "    \n",
    "To do so, we first have to load our arbor python module 'pyarb' and submodules thereof:"
   ]
  },
  {
   "cell_type": "code",
   "execution_count": 1,
   "metadata": {},
   "outputs": [],
   "source": [
    "import sys\n",
    "import pyarb as arb\n",
    "from pyarb import connection\n",
    "from pyarb import cell_member as cmem"
   ]
  },
  {
   "cell_type": "markdown",
   "metadata": {},
   "source": [
    "## Create a recipe for ring network\n",
    "\n",
    "Now, a recipe, that describes the cells and network of a model, can be defined in python by implementing the recipe interface: \n",
    "\n",
    "    1) constructor setting the number of cells\n",
    "    2) function returning the total number of cells in the model\n",
    "    3) function returning a cell description (mechanism) of soma as well as segment, synapse and stimulus locations \n",
    "    4) function returning the number of targets (here: 1 connection to next cell) \n",
    "    5) function returning the number of sources (here: 1 connenction from previous cell)\n",
    "    6) function returning the type of cell with global id gid \n",
    "    7) function creating the ring network (incoming connections to each cell)"
   ]
  },
  {
   "cell_type": "code",
   "execution_count": 2,
   "metadata": {},
   "outputs": [],
   "source": [
    "class ring_recipe(arb.recipe):\n",
    "\n",
    "    def __init__(self, n=4):\n",
    "        # The base C++ class constructor must be called first, to ensure that\n",
    "        # all memory in the C++ class is initialized correctly.\n",
    "        arb.recipe.__init__(self)\n",
    "        self.ncells = n\n",
    "\n",
    "    # The num_cells method that returns the total number of cells in the model\n",
    "    # must be implemented.\n",
    "    def num_cells(self):\n",
    "        return self.ncells\n",
    "\n",
    "    # The cell_description method returns a cell\n",
    "    def cell_description(self, gid):\n",
    "# ================================ SOLUTION 1 ================================ #\n",
    "        # 1a) Make a soma cell\n",
    "        cell = arb.make_soma_cell()\n",
    "        \n",
    "        # 1b) Add synapse at segment 0 at location 0.5\n",
    "        loc = arb.segment_location(0, 0.5)\n",
    "        cell.add_synapse(loc)\n",
    "        \n",
    "        # 1c) Add detector with threshold 20 mV\n",
    "        cell.add_detector(loc, 20)\n",
    "        \n",
    "        # 1d) Add stimulus to first cell with gid 0 at t0 = 0 ms for duration of 20 ms with weight 0.01 nA\n",
    "        if gid==0:\n",
    "            cell.add_stimulus(loc, 0, 20, 0.01)\n",
    "        return cell\n",
    "\n",
    "    def num_targets(self, gid):\n",
    "        return 1\n",
    "\n",
    "    def num_sources(self, gid):\n",
    "        return 1\n",
    "\n",
    "    # The kind method returns the type of cell with gid.\n",
    "    # Note: this must agree with the type returned by cell_description.\n",
    "    def kind(self, gid):\n",
    "        return arb.cell_kind.cable1d\n",
    "\n",
    "    # Make a ring network\n",
    "    def connections_on(self, gid):\n",
    "# ================================ SOLUTION 1 ================================ #\n",
    "        # 1e) Define the source of cell with gid as the previous cell with gid-1\n",
    "        #    caution: close the ring at gid 0\n",
    "        src = self.num_cells()-1 if gid==0 else gid-1\n",
    "        return [connection(cmem(src,0), cmem(gid,0), 0.1, 10)]"
   ]
  },
  {
   "attachments": {},
   "cell_type": "markdown",
   "metadata": {},
   "source": [
    "## Create parallel execution context\n",
    "\n",
    "First, initialize MPI with Arbor's mpi helpers:"
   ]
  },
  {
   "cell_type": "code",
   "execution_count": 3,
   "metadata": {},
   "outputs": [],
   "source": [
    "arb.mpi_init();"
   ]
  },
  {
   "cell_type": "markdown",
   "metadata": {},
   "source": [
    "Then, get MPI communicator:"
   ]
  },
  {
   "cell_type": "code",
   "execution_count": 4,
   "metadata": {},
   "outputs": [
    {
     "name": "stdout",
     "output_type": "stream",
     "text": [
      "<mpi_comm: MPI_COMM_WORLD>\n"
     ]
    }
   ],
   "source": [
    "comm = arb.mpi_comm()\n",
    "\n",
    "print(comm)"
   ]
  },
  {
   "cell_type": "markdown",
   "metadata": {},
   "source": [
    "Then, get the resources and create the parallel execution context"
   ]
  },
  {
   "cell_type": "code",
   "execution_count": 5,
   "metadata": {},
   "outputs": [
    {
     "name": "stdout",
     "output_type": "stream",
     "text": [
      "<context: threads 24, gpu yes, distributed MPI ranks 1> \n",
      "\n"
     ]
    }
   ],
   "source": [
    "# ================================ SOLUTION 2 ================================ #\n",
    "# 2a) Get hardware resources\n",
    "resources = arb.proc_allocation()\n",
    "\n",
    "# 2b) Create a context which takes the resources and an MPI communicator as input\n",
    "context = arb.context(resources, comm)\n",
    "\n",
    "print(context, '\\n')"
   ]
  },
  {
   "cell_type": "markdown",
   "metadata": {},
   "source": [
    "Here, we have 24 threads, a P100 GPU and one local rank.\n",
    "\n",
    "### Set up measurements for runtime and consumption\n",
    "In order to measure the runtime, the memory consumption on CPU and GPU, as well as the energy consumption, we can utilize arbor's meter manager and start the measurement: "
   ]
  },
  {
   "cell_type": "code",
   "execution_count": 6,
   "metadata": {},
   "outputs": [],
   "source": [
    "# OPTIONAL            # ================================ SOLUTION 4 ================================ #\n",
    "# OPTIONAL            # 4a) Initiate meter manager and start the measurement\n",
    "meters = arb.meter_manager()\n",
    "meters.start(context)"
   ]
  },
  {
   "cell_type": "markdown",
   "metadata": {},
   "source": [
    "### Initiate ring network\n",
    "\n",
    "Next, we create the example ring network with 100 cells and set a checkpoint to measure its creation:"
   ]
  },
  {
   "cell_type": "code",
   "execution_count": 7,
   "metadata": {},
   "outputs": [],
   "source": [
    "# 2c) Initiate the recipe with 100 cells\n",
    "recipe = ring_recipe(100)\n",
    "\n",
    "# OPTIONAL            # 4b) i) Set checkpoint 'recipe create'\n",
    "meters.checkpoint('recipe create', context)"
   ]
  },
  {
   "cell_type": "markdown",
   "metadata": {},
   "source": [
    "### Partition the simulation over the distributed system\n",
    "\n",
    "To part the work into segments, we decompose the recipe (and measure again):"
   ]
  },
  {
   "cell_type": "code",
   "execution_count": 8,
   "metadata": {},
   "outputs": [],
   "source": [
    "# 2d) Partition the simulation over the distributed system which takes the recipe and the context as input\n",
    "decomp = arb.partition_load_balance(recipe, context)\n",
    "\n",
    "# OPTIONAL            # 4b) ii) Set checkpoint 'load balance'\n",
    "meters.checkpoint('load balance', context)"
   ]
  },
  {
   "attachments": {},
   "cell_type": "markdown",
   "metadata": {},
   "source": [
    "## Build and run the simulation \n",
    "\n",
    "Next, we build the simulation, initialize a spike recorder (and measure the simulation initialization):"
   ]
  },
  {
   "cell_type": "code",
   "execution_count": 9,
   "metadata": {},
   "outputs": [],
   "source": [
    "# ================================ SOLUTION 3 ================================ #\n",
    "# 3a) Initiate simulation with the recipe, the domain decomposition and the context\n",
    "sim = arb.simulation(recipe, decomp, context)\n",
    "\n",
    "# OPTIONAL            # 4b) iii) Set checkpoint 'simulation init'\n",
    "meters.checkpoint('simulation init', context)\n",
    "\n",
    "# OPTIONAL            # 4c) Build the spike recorder\n",
    "recorder = arb.make_spike_recorder(sim)"
   ]
  },
  {
   "cell_type": "markdown",
   "metadata": {},
   "source": [
    "### Run simulation \n",
    "\n",
    "Finally, we can run the simulation for 2000 ms and with time step size 0.025 ms (and measure the simulation run):"
   ]
  },
  {
   "cell_type": "code",
   "execution_count": 10,
   "metadata": {},
   "outputs": [],
   "source": [
    "# 3b) Run the simulation for 2000 ms with time stepping of 0.025 ms\n",
    "sim.run(2000, 0.025)\n",
    "\n",
    "# OPTIONAL            # 4b) iv) Set checkpoint 'simulation run'\n",
    "meters.checkpoint('simulation run', context)"
   ]
  },
  {
   "attachments": {},
   "cell_type": "markdown",
   "metadata": {},
   "source": [
    "## Analyze results of meter measurement and spike recordings\n",
    "\n",
    "After the simulation run is completed, we print the information collected with arbor's meter manager."
   ]
  },
  {
   "cell_type": "code",
   "execution_count": 11,
   "metadata": {},
   "outputs": [
    {
     "name": "stdout",
     "output_type": "stream",
     "text": [
      "\n",
      "---- meters -------------------------------------------------------------------------------\n",
      "meter                         time(s)      memory(MB)  memory-gpu(MB)      energy(kJ)\n",
      "-------------------------------------------------------------------------------------------\n",
      "recipe create                   0.033          -0.000           0.000           0.000\n",
      "load balance                    0.034          -0.001           0.000           0.000\n",
      "simulation init                 0.041           0.226           8.389           0.009\n",
      "simulation run                  7.550           0.049           4.194           0.929\n",
      "\n"
     ]
    }
   ],
   "source": [
    "# OPTIONAL            # 4d) Make and print meter report\n",
    "print(arb.make_meter_report(meters, context))"
   ]
  },
  {
   "cell_type": "markdown",
   "metadata": {},
   "source": [
    "With the spike recorder we can now print the occuring spike times at correcponding cells:"
   ]
  },
  {
   "cell_type": "code",
   "execution_count": 12,
   "metadata": {},
   "outputs": [
    {
     "name": "stdout",
     "output_type": "stream",
     "text": [
      "SPIKES:\n",
      "  cell  0 at    5.375 ms\n",
      "  cell  1 at   15.700 ms\n",
      "  cell  2 at   26.025 ms\n",
      "  cell  3 at   36.350 ms\n",
      "  cell  4 at   46.675 ms\n",
      "  cell  5 at   57.000 ms\n",
      "  cell  6 at   67.325 ms\n",
      "  cell  7 at   77.650 ms\n",
      "  cell  8 at   87.975 ms\n",
      "  cell  9 at   98.300 ms\n",
      "  ...\n",
      "  cell 93 at 1998.100 ms\n"
     ]
    }
   ],
   "source": [
    "print('SPIKES:')\n",
    "\n",
    "# OPTIONAL            # 4e) Get the recorder`s spikes\n",
    "spikes = recorder.spikes\n",
    "\n",
    "# print at most 10 spikes\n",
    "n_spikes_out = min(len(spikes), 10)\n",
    "for i in range(n_spikes_out):\n",
    "    spike = spikes[i]\n",
    "    print('  cell %2d at %8.3f ms'%(spike.source.gid, spike.time))\n",
    "\n",
    "\n",
    "\n",
    "if n_spikes_out<len(spikes):\n",
    "    print('  ...')\n",
    "    spike = spikes[-1]\n",
    "    print('  cell %2d at %8.3f ms'%(spike.source.gid, spike.time))"
   ]
  },
  {
   "cell_type": "markdown",
   "metadata": {},
   "source": [
    "## Finalize MPI with Arbor's mpi helper"
   ]
  },
  {
   "cell_type": "code",
   "execution_count": 13,
   "metadata": {},
   "outputs": [],
   "source": [
    "arb.mpi_finalize();"
   ]
  },
  {
   "cell_type": "code",
   "execution_count": null,
   "metadata": {},
   "outputs": [],
   "source": []
  }
 ],
 "metadata": {
  "kernelspec": {
   "display_name": "Python 3",
   "language": "python",
   "name": "python3"
  },
  "language_info": {
   "codemirror_mode": {
    "name": "ipython",
    "version": 3
   },
   "file_extension": ".py",
   "mimetype": "text/x-python",
   "name": "python",
   "nbconvert_exporter": "python",
   "pygments_lexer": "ipython3",
   "version": "3.6.5"
  }
 },
 "nbformat": 4,
 "nbformat_minor": 2
}
